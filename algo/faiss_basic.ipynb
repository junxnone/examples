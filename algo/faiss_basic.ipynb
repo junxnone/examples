{
  "nbformat": 4,
  "nbformat_minor": 0,
  "metadata": {
    "colab": {
      "name": "faiss_basic.ipynb",
      "provenance": [],
      "include_colab_link": true
    },
    "kernelspec": {
      "name": "python3",
      "display_name": "Python 3"
    }
  },
  "cells": [
    {
      "cell_type": "markdown",
      "metadata": {
        "id": "view-in-github",
        "colab_type": "text"
      },
      "source": [
        "<a href=\"https://colab.research.google.com/github/junxnone/examples/blob/master/algo/faiss_basic.ipynb\" target=\"_parent\"><img src=\"https://colab.research.google.com/assets/colab-badge.svg\" alt=\"Open In Colab\"/></a>"
      ]
    },
    {
      "cell_type": "code",
      "metadata": {
        "id": "BSIHxaKUsDBY",
        "colab_type": "code",
        "colab": {
          "base_uri": "https://localhost:8080/",
          "height": 52
        },
        "outputId": "b10eff4a-b5e6-4b17-89c7-f038ebeacd50"
      },
      "source": [
        "!pip3 install faiss numpy"
      ],
      "execution_count": 4,
      "outputs": [
        {
          "output_type": "stream",
          "text": [
            "Requirement already satisfied: faiss in /usr/local/lib/python3.6/dist-packages (1.5.3)\n",
            "Requirement already satisfied: numpy in /usr/local/lib/python3.6/dist-packages (1.17.3)\n"
          ],
          "name": "stdout"
        }
      ]
    },
    {
      "cell_type": "code",
      "metadata": {
        "id": "_mAyUVN1s-sQ",
        "colab_type": "code",
        "colab": {
          "base_uri": "https://localhost:8080/",
          "height": 461
        },
        "outputId": "46ac90d4-4d06-4c74-cb5b-434982bc2877"
      },
      "source": [
        "!apt install libomp-dev"
      ],
      "execution_count": 9,
      "outputs": [
        {
          "output_type": "stream",
          "text": [
            "Reading package lists... Done\n",
            "Building dependency tree       \n",
            "Reading state information... Done\n",
            "The following additional packages will be installed:\n",
            "  libomp5\n",
            "Suggested packages:\n",
            "  libomp-doc\n",
            "The following NEW packages will be installed:\n",
            "  libomp-dev libomp5\n",
            "0 upgraded, 2 newly installed, 0 to remove and 28 not upgraded.\n",
            "Need to get 239 kB of archives.\n",
            "After this operation, 804 kB of additional disk space will be used.\n",
            "Get:1 http://archive.ubuntu.com/ubuntu bionic/universe amd64 libomp5 amd64 5.0.1-1 [234 kB]\n",
            "Get:2 http://archive.ubuntu.com/ubuntu bionic/universe amd64 libomp-dev amd64 5.0.1-1 [5,088 B]\n",
            "Fetched 239 kB in 1s (326 kB/s)\n",
            "Selecting previously unselected package libomp5:amd64.\n",
            "(Reading database ... 132681 files and directories currently installed.)\n",
            "Preparing to unpack .../libomp5_5.0.1-1_amd64.deb ...\n",
            "Unpacking libomp5:amd64 (5.0.1-1) ...\n",
            "Selecting previously unselected package libomp-dev.\n",
            "Preparing to unpack .../libomp-dev_5.0.1-1_amd64.deb ...\n",
            "Unpacking libomp-dev (5.0.1-1) ...\n",
            "Setting up libomp5:amd64 (5.0.1-1) ...\n",
            "Processing triggers for libc-bin (2.27-3ubuntu1) ...\n",
            "Setting up libomp-dev (5.0.1-1) ...\n"
          ],
          "name": "stdout"
        }
      ]
    },
    {
      "cell_type": "code",
      "metadata": {
        "id": "0POFmIxcrvtS",
        "colab_type": "code",
        "colab": {}
      },
      "source": [
        "import faiss\n",
        "import numpy as np"
      ],
      "execution_count": 0,
      "outputs": []
    },
    {
      "cell_type": "code",
      "metadata": {
        "id": "hD3ANoGBr541",
        "colab_type": "code",
        "colab": {
          "base_uri": "https://localhost:8080/",
          "height": 34
        },
        "outputId": "728df501-3368-403d-c47a-6ae12850ce13"
      },
      "source": [
        "d = 1024                           # dimension\n",
        "nb = 64                      # database size\n",
        "np.random.seed(1234)             # make reproducible\n",
        "xb = np.random.random((nb, d)).astype('float32')\n",
        "# xb[:, 0] += np.arange(nb) / 1000.\n",
        "print(xb.shape)"
      ],
      "execution_count": 23,
      "outputs": [
        {
          "output_type": "stream",
          "text": [
            "(64, 1024)\n"
          ],
          "name": "stdout"
        }
      ]
    },
    {
      "cell_type": "markdown",
      "metadata": {
        "id": "RqRVJWVtup4a",
        "colab_type": "text"
      },
      "source": [
        "# FlatL2"
      ]
    },
    {
      "cell_type": "code",
      "metadata": {
        "id": "yXuX0LEquKeD",
        "colab_type": "code",
        "colab": {
          "base_uri": "https://localhost:8080/",
          "height": 34
        },
        "outputId": "10957501-0dd6-4163-9dba-fc96ffb883e5"
      },
      "source": [
        "index = faiss.IndexFlatL2(d)   # build the index\n",
        "index.add(xb)                  # add vectors to the index\n",
        "print(index.ntotal)"
      ],
      "execution_count": 15,
      "outputs": [
        {
          "output_type": "stream",
          "text": [
            "64\n"
          ],
          "name": "stdout"
        }
      ]
    },
    {
      "cell_type": "code",
      "metadata": {
        "id": "OU4lhTE9uMhq",
        "colab_type": "code",
        "colab": {
          "base_uri": "https://localhost:8080/",
          "height": 70
        },
        "outputId": "96d56f77-b0dd-455d-c29d-5212b49390b1"
      },
      "source": [
        "t1=np.random.random((1, d)).astype('float32')\n",
        "print(t1.shape)\n",
        "D, I = index.search(t1, 5)     # actual search\n",
        "print(I)\n",
        "print(D)"
      ],
      "execution_count": 24,
      "outputs": [
        {
          "output_type": "stream",
          "text": [
            "(1, 1024)\n",
            "[[48 40 29 55 54]]\n",
            "[[157.486   159.61536 159.80894 163.25558 164.56345]]\n"
          ],
          "name": "stdout"
        }
      ]
    },
    {
      "cell_type": "markdown",
      "metadata": {
        "id": "tVWKJdRGutyf",
        "colab_type": "text"
      },
      "source": [
        "# Kmeans"
      ]
    },
    {
      "cell_type": "code",
      "metadata": {
        "id": "goWbHbzbuNpe",
        "colab_type": "code",
        "colab": {
          "base_uri": "https://localhost:8080/",
          "height": 34
        },
        "outputId": "52ae259b-a340-4b1f-981d-2c00b2f25da8"
      },
      "source": [
        "ncentroids = 7\n",
        "niter = 200\n",
        "verbose = True\n",
        "d = xb.shape[1]\n",
        "kmeans = faiss.Kmeans(d, ncentroids, niter=niter, verbose=verbose)\n",
        "kmeans.train(xb)"
      ],
      "execution_count": 25,
      "outputs": [
        {
          "output_type": "execute_result",
          "data": {
            "text/plain": [
              "4813.1504"
            ]
          },
          "metadata": {
            "tags": []
          },
          "execution_count": 25
        }
      ]
    },
    {
      "cell_type": "code",
      "metadata": {
        "id": "U3EZldU-uwis",
        "colab_type": "code",
        "colab": {
          "base_uri": "https://localhost:8080/",
          "height": 230
        },
        "outputId": "fa420ef5-60ed-42b8-a20e-15a768c3d5c0"
      },
      "source": [
        "D, I = kmeans.index.search(xb, 1)\n",
        "print(I.T)\n",
        "print(D.T)"
      ],
      "execution_count": 26,
      "outputs": [
        {
          "output_type": "stream",
          "text": [
            "[[1 3 5 4 3 5 6 4 2 2 6 0 3 3 6 4 6 4 6 2 4 0 6 6 6 3 4 3 2 6 2 3 6 6 5 3\n",
            "  4 4 3 6 6 4 3 5 4 3 2 2 1 2 6 5 6 6 3 2 2 4 2 3 4 2 5 3]]\n",
            "[[39.16687  81.2424   71.83099  74.82605  80.40521  66.74335  77.26056\n",
            "  78.24255  79.058105 76.436646 79.79193  39.23761  82.380615 80.03906\n",
            "  78.1051   72.03485  78.605774 75.52905  87.35718  77.765625 79.619385\n",
            "  39.237793 80.89673  78.6095   77.430176 73.90021  73.64612  83.806854\n",
            "  80.81787  76.93744  71.69946  76.954895 82.90747  74.43231  71.99042\n",
            "  80.73645  81.57654  75.703735 72.405396 81.13452  79.72034  74.12305\n",
            "  81.19641  68.994934 82.51813  81.76337  78.07623  76.30304  39.166687\n",
            "  79.2229   77.878296 69.590454 77.61139  79.16815  80.833496 77.67084\n",
            "  76.64105  76.6427   79.579834 74.54474  80.09155  79.50922  72.045715\n",
            "  79.75543 ]]\n"
          ],
          "name": "stdout"
        }
      ]
    },
    {
      "cell_type": "code",
      "metadata": {
        "id": "nQ5SFO-yuymL",
        "colab_type": "code",
        "colab": {
          "base_uri": "https://localhost:8080/",
          "height": 158
        },
        "outputId": "02c519b8-b735-43b7-8db9-516048314060"
      },
      "source": [
        "index = faiss.IndexFlatL2(d)\n",
        "index.add(xb)\n",
        "D, I = index.search (kmeans.centroids, 1)\n",
        "print(kmeans.centroids.shape)\n",
        "print(I)"
      ],
      "execution_count": 27,
      "outputs": [
        {
          "output_type": "stream",
          "text": [
            "(7, 1024)\n",
            "[[11]\n",
            " [ 0]\n",
            " [30]\n",
            " [38]\n",
            " [15]\n",
            " [ 5]\n",
            " [33]]\n"
          ],
          "name": "stdout"
        }
      ]
    },
    {
      "cell_type": "code",
      "metadata": {
        "id": "ljLvKe9Cuz7q",
        "colab_type": "code",
        "colab": {}
      },
      "source": [
        ""
      ],
      "execution_count": 0,
      "outputs": []
    }
  ]
}