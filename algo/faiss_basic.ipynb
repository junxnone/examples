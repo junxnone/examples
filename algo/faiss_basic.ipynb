{
  "nbformat": 4,
  "nbformat_minor": 0,
  "metadata": {
    "colab": {
      "name": "faiss_basic.ipynb",
      "provenance": [],
      "include_colab_link": true
    },
    "kernelspec": {
      "name": "python3",
      "display_name": "Python 3"
    }
  },
  "cells": [
    {
      "cell_type": "markdown",
      "metadata": {
        "id": "view-in-github",
        "colab_type": "text"
      },
      "source": [
        "<a href=\"https://colab.research.google.com/github/junxnone/examples/blob/master/algo/faiss_basic.ipynb\" target=\"_parent\"><img src=\"https://colab.research.google.com/assets/colab-badge.svg\" alt=\"Open In Colab\"/></a>"
      ]
    },
    {
      "cell_type": "code",
      "metadata": {
        "id": "BSIHxaKUsDBY",
        "colab_type": "code",
        "outputId": "5e8dc81a-cc32-4600-a8d5-129f912c9a21",
        "colab": {
          "base_uri": "https://localhost:8080/",
          "height": 52
        }
      },
      "source": [
        "!pip3 install faiss numpy"
      ],
      "execution_count": 1,
      "outputs": [
        {
          "output_type": "stream",
          "text": [
            "Requirement already satisfied: faiss in /usr/local/lib/python3.6/dist-packages (1.5.3)\n",
            "Requirement already satisfied: numpy in /usr/local/lib/python3.6/dist-packages (1.17.3)\n"
          ],
          "name": "stdout"
        }
      ]
    },
    {
      "cell_type": "code",
      "metadata": {
        "id": "_mAyUVN1s-sQ",
        "colab_type": "code",
        "outputId": "152180c8-6eee-4b00-cf6a-0214d0854c01",
        "colab": {
          "base_uri": "https://localhost:8080/",
          "height": 105
        }
      },
      "source": [
        "!apt install libomp-dev"
      ],
      "execution_count": 2,
      "outputs": [
        {
          "output_type": "stream",
          "text": [
            "Reading package lists... Done\n",
            "Building dependency tree       \n",
            "Reading state information... Done\n",
            "libomp-dev is already the newest version (5.0.1-1).\n",
            "0 upgraded, 0 newly installed, 0 to remove and 28 not upgraded.\n"
          ],
          "name": "stdout"
        }
      ]
    },
    {
      "cell_type": "code",
      "metadata": {
        "id": "0POFmIxcrvtS",
        "colab_type": "code",
        "colab": {}
      },
      "source": [
        "import faiss\n",
        "import numpy as np"
      ],
      "execution_count": 0,
      "outputs": []
    },
    {
      "cell_type": "code",
      "metadata": {
        "id": "hD3ANoGBr541",
        "colab_type": "code",
        "outputId": "9fc355da-c1e0-4862-9c8a-ca2218d49a41",
        "colab": {
          "base_uri": "https://localhost:8080/",
          "height": 34
        }
      },
      "source": [
        "d = 1024                           # dimension\n",
        "nb = 64                      # database size\n",
        "np.random.seed(1234)             # make reproducible\n",
        "xb = np.random.random((nb, d)).astype('float32')\n",
        "# xb[:, 0] += np.arange(nb) / 1000.\n",
        "print(xb.shape)"
      ],
      "execution_count": 4,
      "outputs": [
        {
          "output_type": "stream",
          "text": [
            "(64, 1024)\n"
          ],
          "name": "stdout"
        }
      ]
    },
    {
      "cell_type": "markdown",
      "metadata": {
        "id": "RqRVJWVtup4a",
        "colab_type": "text"
      },
      "source": [
        "# FlatL2"
      ]
    },
    {
      "cell_type": "code",
      "metadata": {
        "id": "yXuX0LEquKeD",
        "colab_type": "code",
        "outputId": "4925826d-a94f-4744-e519-7acaf80a1f4f",
        "colab": {
          "base_uri": "https://localhost:8080/",
          "height": 34
        }
      },
      "source": [
        "index = faiss.IndexFlatL2(d)   # build the index\n",
        "index.add(xb)                  # add vectors to the index\n",
        "print(index.ntotal)"
      ],
      "execution_count": 5,
      "outputs": [
        {
          "output_type": "stream",
          "text": [
            "64\n"
          ],
          "name": "stdout"
        }
      ]
    },
    {
      "cell_type": "code",
      "metadata": {
        "id": "OU4lhTE9uMhq",
        "colab_type": "code",
        "outputId": "e7922eff-fdba-47dd-d596-f8d806d2f244",
        "colab": {
          "base_uri": "https://localhost:8080/",
          "height": 70
        }
      },
      "source": [
        "t1=np.random.random((1, d)).astype('float32')\n",
        "print(t1.shape)\n",
        "D, I = index.search(t1, 5)     # actual search\n",
        "print(I)\n",
        "print(D)"
      ],
      "execution_count": 6,
      "outputs": [
        {
          "output_type": "stream",
          "text": [
            "(1, 1024)\n",
            "[[48 40 29 55 54]]\n",
            "[[157.486   159.61536 159.80894 163.25558 164.56345]]\n"
          ],
          "name": "stdout"
        }
      ]
    },
    {
      "cell_type": "markdown",
      "metadata": {
        "id": "WHZK_q2dtlWF",
        "colab_type": "text"
      },
      "source": [
        "#FlatIP"
      ]
    },
    {
      "cell_type": "code",
      "metadata": {
        "id": "56cMYq7ttoIS",
        "colab_type": "code",
        "colab": {
          "base_uri": "https://localhost:8080/",
          "height": 87
        },
        "outputId": "7ccd4f02-e564-4677-9ac9-cf46d7f2c701"
      },
      "source": [
        "index_ip = faiss.IndexFlatIP(d)   # build the index\n",
        "index_ip.add(xb)                  # add vectors to the index\n",
        "print(index_ip.ntotal)\n",
        "\n",
        "print(t1.shape)\n",
        "D, I = index_ip.search(t1, 5)     # actual search\n",
        "print(I)\n",
        "print(D)"
      ],
      "execution_count": 7,
      "outputs": [
        {
          "output_type": "stream",
          "text": [
            "64\n",
            "(1, 1024)\n",
            "[[40 53 54 51 29]]\n",
            "[[274.67383 274.55933 273.45782 272.37405 271.29324]]\n"
          ],
          "name": "stdout"
        }
      ]
    },
    {
      "cell_type": "markdown",
      "metadata": {
        "id": "ko7pxhW9u0yt",
        "colab_type": "text"
      },
      "source": [
        "# IndexIVFFlat\n"
      ]
    },
    {
      "cell_type": "code",
      "metadata": {
        "id": "zLDPLJQUu2h7",
        "colab_type": "code",
        "colab": {
          "base_uri": "https://localhost:8080/",
          "height": 87
        },
        "outputId": "9e69162e-4ba0-4d7e-bccd-d3875389d1b7"
      },
      "source": [
        "nlist = 50\n",
        "k = 5\n",
        "quantizer = faiss.IndexFlatL2(d)  # the other index\n",
        "index_ivf = faiss.IndexIVFFlat(quantizer, d, nlist)\n",
        "assert not index_ivf.is_trained\n",
        "index_ivf.train(xb)\n",
        "assert index_ivf.is_trained\n",
        "\n",
        "index_ivf.add(xb)                  # add may be a bit slower as well\n",
        "D, I = index_ivf.search(t1, k)     # actual search\n",
        "print(I)                            # neighbors of the 5 last queries\n",
        "\n",
        "for npb in [5,10,20]:\n",
        "  index_ivf.nprobe = npb              # default nprobe is 1, try a few more\n",
        "  D, I = index_ivf.search(t1, k)\n",
        "  print(\"nprobe = {}：   I ： {}\".format(npb,I))   # neighbors of the 5 last queries\n"
      ],
      "execution_count": 30,
      "outputs": [
        {
          "output_type": "stream",
          "text": [
            "[[48 59 24 -1 -1]]\n",
            "nprobe = 5：   I ： [[48 29 54 38 27]]\n",
            "nprobe = 10：   I ： [[48 40 29 54 38]]\n",
            "nprobe = 20：   I ： [[48 40 29 55 54]]\n"
          ],
          "name": "stdout"
        }
      ]
    },
    {
      "cell_type": "markdown",
      "metadata": {
        "id": "5e7atcc01Sp1",
        "colab_type": "text"
      },
      "source": [
        "> default nprobe = 1，只有第一个是相同的  \n",
        "> nprobe = 10 ， 则和FlatL2 完全相同\n",
        "·"
      ]
    },
    {
      "cell_type": "markdown",
      "metadata": {
        "id": "tVWKJdRGutyf",
        "colab_type": "text"
      },
      "source": [
        "# Kmeans"
      ]
    },
    {
      "cell_type": "code",
      "metadata": {
        "id": "goWbHbzbuNpe",
        "colab_type": "code",
        "outputId": "9344673d-eca1-4159-9dc4-f0a4a97265f3",
        "colab": {
          "base_uri": "https://localhost:8080/",
          "height": 34
        }
      },
      "source": [
        "ncentroids = 7\n",
        "niter = 200\n",
        "verbose = True\n",
        "d = xb.shape[1]\n",
        "kmeans = faiss.Kmeans(d, ncentroids, niter=niter, verbose=verbose)\n",
        "kmeans.train(xb)"
      ],
      "execution_count": 8,
      "outputs": [
        {
          "output_type": "execute_result",
          "data": {
            "text/plain": [
              "4813.1504"
            ]
          },
          "metadata": {
            "tags": []
          },
          "execution_count": 8
        }
      ]
    },
    {
      "cell_type": "code",
      "metadata": {
        "id": "U3EZldU-uwis",
        "colab_type": "code",
        "outputId": "b20adfff-5cf0-428b-f6e5-835ba90a5f68",
        "colab": {
          "base_uri": "https://localhost:8080/",
          "height": 230
        }
      },
      "source": [
        "D, I = kmeans.index.search(xb, 1)\n",
        "print(I.T)\n",
        "print(D.T)"
      ],
      "execution_count": 9,
      "outputs": [
        {
          "output_type": "stream",
          "text": [
            "[[1 3 5 4 3 5 6 4 2 2 6 0 3 3 6 4 6 4 6 2 4 0 6 6 6 3 4 3 2 6 2 3 6 6 5 3\n",
            "  4 4 3 6 6 4 3 5 4 3 2 2 1 2 6 5 6 6 3 2 2 4 2 3 4 2 5 3]]\n",
            "[[39.16687  81.2424   71.83099  74.82605  80.40521  66.74335  77.26056\n",
            "  78.24255  79.058105 76.436646 79.79193  39.23761  82.380615 80.03906\n",
            "  78.1051   72.03485  78.605774 75.52905  87.35718  77.765625 79.619385\n",
            "  39.237793 80.89673  78.6095   77.430176 73.90021  73.64612  83.806854\n",
            "  80.81787  76.93744  71.69946  76.954895 82.90747  74.43231  71.99042\n",
            "  80.73645  81.57654  75.703735 72.405396 81.13452  79.72034  74.12305\n",
            "  81.19641  68.994934 82.51813  81.76337  78.07623  76.30304  39.166687\n",
            "  79.2229   77.878296 69.590454 77.61139  79.16815  80.833496 77.67084\n",
            "  76.64105  76.6427   79.579834 74.54474  80.09155  79.50922  72.045715\n",
            "  79.75543 ]]\n"
          ],
          "name": "stdout"
        }
      ]
    },
    {
      "cell_type": "code",
      "metadata": {
        "id": "nQ5SFO-yuymL",
        "colab_type": "code",
        "outputId": "0a9b0dd6-6597-46cd-c311-6fb7be6baf6a",
        "colab": {
          "base_uri": "https://localhost:8080/",
          "height": 158
        }
      },
      "source": [
        "index = faiss.IndexFlatL2(d)\n",
        "index.add(xb)\n",
        "D, I = index.search (kmeans.centroids, 1)\n",
        "print(kmeans.centroids.shape)\n",
        "print(I)"
      ],
      "execution_count": 10,
      "outputs": [
        {
          "output_type": "stream",
          "text": [
            "(7, 1024)\n",
            "[[11]\n",
            " [ 0]\n",
            " [30]\n",
            " [38]\n",
            " [15]\n",
            " [ 5]\n",
            " [33]]\n"
          ],
          "name": "stdout"
        }
      ]
    },
    {
      "cell_type": "code",
      "metadata": {
        "id": "ljLvKe9Cuz7q",
        "colab_type": "code",
        "colab": {}
      },
      "source": [
        ""
      ],
      "execution_count": 0,
      "outputs": []
    }
  ]
}