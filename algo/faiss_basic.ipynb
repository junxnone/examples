{
  "nbformat": 4,
  "nbformat_minor": 0,
  "metadata": {
    "colab": {
      "name": "faiss_basic.ipynb",
      "provenance": [],
      "include_colab_link": true
    },
    "kernelspec": {
      "name": "python3",
      "display_name": "Python 3"
    }
  },
  "cells": [
    {
      "cell_type": "markdown",
      "metadata": {
        "id": "view-in-github",
        "colab_type": "text"
      },
      "source": [
        "<a href=\"https://colab.research.google.com/github/junxnone/examples/blob/master/algo/faiss_basic.ipynb\" target=\"_parent\"><img src=\"https://colab.research.google.com/assets/colab-badge.svg\" alt=\"Open In Colab\"/></a>"
      ]
    },
    {
      "cell_type": "code",
      "metadata": {
        "id": "BSIHxaKUsDBY",
        "colab_type": "code",
        "outputId": "25abed6c-fd5f-41be-99d0-1954d2cef5bf",
        "colab": {
          "base_uri": "https://localhost:8080/",
          "height": 123
        }
      },
      "source": [
        "!pip3 install faiss numpy"
      ],
      "execution_count": 1,
      "outputs": [
        {
          "output_type": "stream",
          "text": [
            "Collecting faiss\n",
            "\u001b[?25l  Downloading https://files.pythonhosted.org/packages/bd/1c/4ae6cb87cf0c09c25561ea48db11e25713b25c580909902a92c090b377c0/faiss-1.5.3-cp36-cp36m-manylinux1_x86_64.whl (4.7MB)\n",
            "\u001b[K     |████████████████████████████████| 4.7MB 9.1MB/s \n",
            "\u001b[?25hRequirement already satisfied: numpy in /usr/local/lib/python3.6/dist-packages (1.17.3)\n",
            "Installing collected packages: faiss\n",
            "Successfully installed faiss-1.5.3\n"
          ],
          "name": "stdout"
        }
      ]
    },
    {
      "cell_type": "code",
      "metadata": {
        "id": "_mAyUVN1s-sQ",
        "colab_type": "code",
        "outputId": "a3ed427e-0d86-48c4-92b6-af1088cc9f83",
        "colab": {
          "base_uri": "https://localhost:8080/",
          "height": 461
        }
      },
      "source": [
        "!apt install libomp-dev"
      ],
      "execution_count": 2,
      "outputs": [
        {
          "output_type": "stream",
          "text": [
            "Reading package lists... Done\n",
            "Building dependency tree       \n",
            "Reading state information... Done\n",
            "The following additional packages will be installed:\n",
            "  libomp5\n",
            "Suggested packages:\n",
            "  libomp-doc\n",
            "The following NEW packages will be installed:\n",
            "  libomp-dev libomp5\n",
            "0 upgraded, 2 newly installed, 0 to remove and 28 not upgraded.\n",
            "Need to get 239 kB of archives.\n",
            "After this operation, 804 kB of additional disk space will be used.\n",
            "Get:1 http://archive.ubuntu.com/ubuntu bionic/universe amd64 libomp5 amd64 5.0.1-1 [234 kB]\n",
            "Get:2 http://archive.ubuntu.com/ubuntu bionic/universe amd64 libomp-dev amd64 5.0.1-1 [5,088 B]\n",
            "Fetched 239 kB in 0s (2,114 kB/s)\n",
            "Selecting previously unselected package libomp5:amd64.\n",
            "(Reading database ... 132681 files and directories currently installed.)\n",
            "Preparing to unpack .../libomp5_5.0.1-1_amd64.deb ...\n",
            "Unpacking libomp5:amd64 (5.0.1-1) ...\n",
            "Selecting previously unselected package libomp-dev.\n",
            "Preparing to unpack .../libomp-dev_5.0.1-1_amd64.deb ...\n",
            "Unpacking libomp-dev (5.0.1-1) ...\n",
            "Setting up libomp5:amd64 (5.0.1-1) ...\n",
            "Processing triggers for libc-bin (2.27-3ubuntu1) ...\n",
            "Setting up libomp-dev (5.0.1-1) ...\n"
          ],
          "name": "stdout"
        }
      ]
    },
    {
      "cell_type": "code",
      "metadata": {
        "id": "0POFmIxcrvtS",
        "colab_type": "code",
        "colab": {}
      },
      "source": [
        "import faiss\n",
        "import numpy as np"
      ],
      "execution_count": 0,
      "outputs": []
    },
    {
      "cell_type": "code",
      "metadata": {
        "id": "hD3ANoGBr541",
        "colab_type": "code",
        "outputId": "5008d3aa-6888-43c4-f777-e096dee0ecb9",
        "colab": {
          "base_uri": "https://localhost:8080/",
          "height": 34
        }
      },
      "source": [
        "d = 1024                           # dimension\n",
        "nb = 64                      # database size\n",
        "np.random.seed(1234)             # make reproducible\n",
        "xb = np.random.random((nb, d)).astype('float32')\n",
        "# xb[:, 0] += np.arange(nb) / 1000.\n",
        "print(xb.shape)"
      ],
      "execution_count": 4,
      "outputs": [
        {
          "output_type": "stream",
          "text": [
            "(64, 1024)\n"
          ],
          "name": "stdout"
        }
      ]
    },
    {
      "cell_type": "markdown",
      "metadata": {
        "id": "RqRVJWVtup4a",
        "colab_type": "text"
      },
      "source": [
        "# FlatL2"
      ]
    },
    {
      "cell_type": "code",
      "metadata": {
        "id": "yXuX0LEquKeD",
        "colab_type": "code",
        "outputId": "954455de-f68a-4ecf-e5e5-b4292f777925",
        "colab": {
          "base_uri": "https://localhost:8080/",
          "height": 34
        }
      },
      "source": [
        "index = faiss.IndexFlatL2(d)   # build the index\n",
        "index.add(xb)                  # add vectors to the index\n",
        "print(index.ntotal)"
      ],
      "execution_count": 5,
      "outputs": [
        {
          "output_type": "stream",
          "text": [
            "64\n"
          ],
          "name": "stdout"
        }
      ]
    },
    {
      "cell_type": "code",
      "metadata": {
        "id": "OU4lhTE9uMhq",
        "colab_type": "code",
        "outputId": "c5315b9e-f9e8-4635-ff62-70f0bf766b65",
        "colab": {
          "base_uri": "https://localhost:8080/",
          "height": 70
        }
      },
      "source": [
        "t1=np.random.random((1, d)).astype('float32')\n",
        "print(t1.shape)\n",
        "D, I = index.search(t1, 5)     # actual search\n",
        "print(I)\n",
        "print(D)"
      ],
      "execution_count": 6,
      "outputs": [
        {
          "output_type": "stream",
          "text": [
            "(1, 1024)\n",
            "[[48 40 29 55 54]]\n",
            "[[157.486   159.61536 159.80894 163.25558 164.56345]]\n"
          ],
          "name": "stdout"
        }
      ]
    },
    {
      "cell_type": "markdown",
      "metadata": {
        "id": "WHZK_q2dtlWF",
        "colab_type": "text"
      },
      "source": [
        "#FlatIP"
      ]
    },
    {
      "cell_type": "code",
      "metadata": {
        "id": "56cMYq7ttoIS",
        "colab_type": "code",
        "outputId": "de5be155-d466-48bb-8b7a-f1425202cc1d",
        "colab": {
          "base_uri": "https://localhost:8080/",
          "height": 87
        }
      },
      "source": [
        "index_ip = faiss.IndexFlatIP(d)   # build the index\n",
        "index_ip.add(xb)                  # add vectors to the index\n",
        "print(index_ip.ntotal)\n",
        "\n",
        "print(t1.shape)\n",
        "D, I = index_ip.search(t1, 5)     # actual search\n",
        "print(I)\n",
        "print(D)"
      ],
      "execution_count": 7,
      "outputs": [
        {
          "output_type": "stream",
          "text": [
            "64\n",
            "(1, 1024)\n",
            "[[40 53 54 51 29]]\n",
            "[[274.67383 274.55933 273.45782 272.37405 271.29324]]\n"
          ],
          "name": "stdout"
        }
      ]
    },
    {
      "cell_type": "markdown",
      "metadata": {
        "id": "ko7pxhW9u0yt",
        "colab_type": "text"
      },
      "source": [
        "# IndexIVFFlat\n"
      ]
    },
    {
      "cell_type": "code",
      "metadata": {
        "id": "zLDPLJQUu2h7",
        "colab_type": "code",
        "outputId": "92d1b984-1ef4-4704-97d9-9cb69cc5437a",
        "colab": {
          "base_uri": "https://localhost:8080/",
          "height": 87
        }
      },
      "source": [
        "nlist = 50\n",
        "k = 5\n",
        "quantizer = faiss.IndexFlatL2(d)  # the other index\n",
        "index_ivf = faiss.IndexIVFFlat(quantizer, d, nlist)\n",
        "assert not index_ivf.is_trained\n",
        "index_ivf.train(xb)\n",
        "assert index_ivf.is_trained\n",
        "\n",
        "index_ivf.add(xb)                  # add may be a bit slower as well\n",
        "D, I = index_ivf.search(t1, k)     # actual search\n",
        "print(I)                            # neighbors of the 5 last queries\n",
        "\n",
        "for npb in [5,10,20]:\n",
        "  index_ivf.nprobe = npb              # default nprobe is 1, try a few more\n",
        "  D, I = index_ivf.search(t1, k)\n",
        "  print(\"nprobe = {}：   I ： {}\".format(npb,I))   # neighbors of the 5 last queries\n"
      ],
      "execution_count": 8,
      "outputs": [
        {
          "output_type": "stream",
          "text": [
            "[[48 59 24 -1 -1]]\n",
            "nprobe = 5：   I ： [[48 29 54 38 27]]\n",
            "nprobe = 10：   I ： [[48 40 29 54 38]]\n",
            "nprobe = 20：   I ： [[48 40 29 55 54]]\n"
          ],
          "name": "stdout"
        }
      ]
    },
    {
      "cell_type": "markdown",
      "metadata": {
        "id": "5e7atcc01Sp1",
        "colab_type": "text"
      },
      "source": [
        "> default nprobe = 1，只有第一个是相同的  \n",
        "> nprobe = 10 ， 则和FlatL2 完全相同\n",
        "·"
      ]
    },
    {
      "cell_type": "markdown",
      "metadata": {
        "id": "tVWKJdRGutyf",
        "colab_type": "text"
      },
      "source": [
        "# Kmeans"
      ]
    },
    {
      "cell_type": "code",
      "metadata": {
        "id": "goWbHbzbuNpe",
        "colab_type": "code",
        "outputId": "3afab77c-902c-494d-f0f5-995e9e506370",
        "colab": {
          "base_uri": "https://localhost:8080/",
          "height": 34
        }
      },
      "source": [
        "ncentroids = 7\n",
        "niter = 200\n",
        "verbose = True\n",
        "d = xb.shape[1]\n",
        "kmeans = faiss.Kmeans(d, ncentroids, niter=niter, verbose=verbose)\n",
        "kmeans.train(xb)"
      ],
      "execution_count": 9,
      "outputs": [
        {
          "output_type": "execute_result",
          "data": {
            "text/plain": [
              "4813.1504"
            ]
          },
          "metadata": {
            "tags": []
          },
          "execution_count": 9
        }
      ]
    },
    {
      "cell_type": "code",
      "metadata": {
        "id": "U3EZldU-uwis",
        "colab_type": "code",
        "outputId": "0ae3c925-a42f-4ecd-fc3e-8a34607e40e9",
        "colab": {
          "base_uri": "https://localhost:8080/",
          "height": 230
        }
      },
      "source": [
        "D, I = kmeans.index.search(xb, 1)\n",
        "print(I.T)\n",
        "print(D.T)"
      ],
      "execution_count": 10,
      "outputs": [
        {
          "output_type": "stream",
          "text": [
            "[[1 3 5 4 3 5 6 4 2 2 6 0 3 3 6 4 6 4 6 2 4 0 6 6 6 3 4 3 2 6 2 3 6 6 5 3\n",
            "  4 4 3 6 6 4 3 5 4 3 2 2 1 2 6 5 6 6 3 2 2 4 2 3 4 2 5 3]]\n",
            "[[39.16687  81.2424   71.83099  74.82605  80.40521  66.74335  77.26056\n",
            "  78.24255  79.058105 76.436646 79.79193  39.23761  82.380615 80.03906\n",
            "  78.1051   72.03485  78.605774 75.52905  87.35718  77.765625 79.619385\n",
            "  39.237793 80.89673  78.6095   77.430176 73.90021  73.64612  83.806854\n",
            "  80.81787  76.93744  71.69946  76.954895 82.90747  74.43231  71.99042\n",
            "  80.73645  81.57654  75.703735 72.405396 81.13452  79.72034  74.12305\n",
            "  81.19641  68.994934 82.51813  81.76337  78.07623  76.30304  39.166687\n",
            "  79.2229   77.878296 69.590454 77.61139  79.16815  80.833496 77.67084\n",
            "  76.64105  76.6427   79.579834 74.54474  80.09155  79.50922  72.045715\n",
            "  79.75543 ]]\n"
          ],
          "name": "stdout"
        }
      ]
    },
    {
      "cell_type": "code",
      "metadata": {
        "id": "nQ5SFO-yuymL",
        "colab_type": "code",
        "outputId": "1cf0fe22-7587-4c59-d14b-1e8fae86e6ef",
        "colab": {
          "base_uri": "https://localhost:8080/",
          "height": 158
        }
      },
      "source": [
        "index = faiss.IndexFlatL2(d)\n",
        "index.add(xb)\n",
        "D, I = index.search (kmeans.centroids, 1)\n",
        "print(kmeans.centroids.shape)\n",
        "print(I)"
      ],
      "execution_count": 11,
      "outputs": [
        {
          "output_type": "stream",
          "text": [
            "(7, 1024)\n",
            "[[11]\n",
            " [ 0]\n",
            " [30]\n",
            " [38]\n",
            " [15]\n",
            " [ 5]\n",
            " [33]]\n"
          ],
          "name": "stdout"
        }
      ]
    },
    {
      "cell_type": "markdown",
      "metadata": {
        "id": "5zSqL9DhM7j8",
        "colab_type": "text"
      },
      "source": [
        "# PCA"
      ]
    },
    {
      "cell_type": "code",
      "metadata": {
        "id": "ljLvKe9Cuz7q",
        "colab_type": "code",
        "colab": {
          "base_uri": "https://localhost:8080/",
          "height": 87
        },
        "outputId": "f25d3e74-a3f4-46a3-a667-7696b46ecd52"
      },
      "source": [
        "mt = np.random.rand(1000, 40).astype('float32')\n",
        "mat = faiss.PCAMatrix (40, 10)\n",
        "mat.train(mt)\n",
        "assert mat.is_trained\n",
        "tr = mat.apply_py(mt)\n",
        "# print this to show that the magnitude of tr's columns is decreasing\n",
        "print(mt.shape)\n",
        "print(tr.shape)\n",
        "print((tr ** 2).sum(0))"
      ],
      "execution_count": 17,
      "outputs": [
        {
          "output_type": "stream",
          "text": [
            "(1000, 40)\n",
            "(1000, 10)\n",
            "[114.77626  112.0039   108.320045 106.406044 103.98856  102.30232\n",
            " 101.09535   98.141975  95.62195   95.1056  ]\n"
          ],
          "name": "stdout"
        }
      ]
    },
    {
      "cell_type": "markdown",
      "metadata": {
        "id": "6JciTxSqOCn1",
        "colab_type": "text"
      },
      "source": [
        "# PQ encoding / decoding\n",
        "## 1 ProductQuantizer "
      ]
    },
    {
      "cell_type": "code",
      "metadata": {
        "id": "ADWmBPfzN_fR",
        "colab_type": "code",
        "colab": {
          "base_uri": "https://localhost:8080/",
          "height": 141
        },
        "outputId": "c75684c5-5b09-4103-c213-941f1fb4a16d"
      },
      "source": [
        "d = 32  # data dimension\n",
        "cs = 4  # code size (bytes)\n",
        "\n",
        "# train set \n",
        "nt = 10000\n",
        "xt = np.random.rand(nt, d).astype('float32')\n",
        "\n",
        "# dataset to encode (could be same as train)\n",
        "n = 20000\n",
        "x = np.random.rand(n, d).astype('float32')\n",
        "\n",
        "pq = faiss.ProductQuantizer(d, cs, 8)\n",
        "pq.train(xt)\n",
        "\n",
        "# encode \n",
        "codes = pq.compute_codes(x)\n",
        "\n",
        "# decode\n",
        "x2 = pq.decode(codes)\n",
        "\n",
        "# compute reconstruction error\n",
        "avg_relative_error = ((x - x2)**2).sum() / (x ** 2).sum()\n",
        "print(x.shape)\n",
        "print(codes.shape)\n",
        "print(x2.shape)\n",
        "print(type(x[0][0]))\n",
        "print(type(codes[0][0]))\n",
        "print(type(x2[0][0]))\n",
        "print(avg_relative_error)"
      ],
      "execution_count": 26,
      "outputs": [
        {
          "output_type": "stream",
          "text": [
            "(20000, 32)\n",
            "(20000, 4)\n",
            "(20000, 32)\n",
            "<class 'numpy.float32'>\n",
            "<class 'numpy.uint8'>\n",
            "<class 'numpy.float32'>\n",
            "0.066108525\n"
          ],
          "name": "stdout"
        }
      ]
    },
    {
      "cell_type": "markdown",
      "metadata": {
        "id": "BCkVS6Z9O85A",
        "colab_type": "text"
      },
      "source": [
        "# 2 ScalarQuantizer"
      ]
    },
    {
      "cell_type": "code",
      "metadata": {
        "id": "jjFPoDV_O-Lx",
        "colab_type": "code",
        "colab": {
          "base_uri": "https://localhost:8080/",
          "height": 141
        },
        "outputId": "15282275-fa66-4a37-dc03-ec6b18ef7289"
      },
      "source": [
        "d = 32  # data dimension\n",
        "\n",
        "# train set \n",
        "nt = 10000\n",
        "xt = np.random.rand(nt, d).astype('float32')\n",
        "\n",
        "# dataset to encode (could be same as train)\n",
        "n = 20000\n",
        "x = np.random.rand(n, d).astype('float32')\n",
        "\n",
        "# QT_8bit allocates 8 bits per dimension (QT_4bit also works)\n",
        "sq = faiss.ScalarQuantizer(d, faiss.ScalarQuantizer.QT_8bit)\n",
        "sq.train(xt)\n",
        "\n",
        "# encode \n",
        "codes = sq.compute_codes(x)\n",
        "\n",
        "# decode\n",
        "x2 = sq.decode(codes)\n",
        "\n",
        "# compute reconstruction error\n",
        "avg_relative_error = ((x - x2)**2).sum() / (x ** 2).sum()\n",
        "\n",
        "print(x.shape)\n",
        "print(codes.shape)\n",
        "print(x2.shape)\n",
        "print(type(x[0][0]))\n",
        "print(type(codes[0][0]))\n",
        "print(type(x2[0][0]))\n",
        "print(avg_relative_error)\n"
      ],
      "execution_count": 27,
      "outputs": [
        {
          "output_type": "stream",
          "text": [
            "(20000, 32)\n",
            "(20000, 32)\n",
            "(20000, 32)\n",
            "<class 'numpy.float32'>\n",
            "<class 'numpy.uint8'>\n",
            "<class 'numpy.float32'>\n",
            "3.8492058e-06\n"
          ],
          "name": "stdout"
        }
      ]
    }
  ]
}