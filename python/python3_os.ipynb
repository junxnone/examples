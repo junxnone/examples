{
 "cells": [
  {
   "cell_type": "markdown",
   "metadata": {},
   "source": [
    "# Index\n",
    "- [makedirs()](#makedirs)"
   ]
  },
  {
   "cell_type": "code",
   "execution_count": 3,
   "metadata": {},
   "outputs": [],
   "source": [
    "import os\n",
    "from pwd import getpwnam  "
   ]
  },
  {
   "cell_type": "markdown",
   "metadata": {},
   "source": [
    "# makedirs"
   ]
  },
  {
   "cell_type": "code",
   "execution_count": 66,
   "metadata": {},
   "outputs": [],
   "source": [
    "if not os.path.exists(\"tmp\"):\n",
    "  os.makedirs(\"tmp\")\n",
    "if not os.path.exists(\"tmp/test\"):\n",
    "  os.makedirs(\"tmp/test\",0o776)\n",
    "if os.path.isdir(\"tmp\"):\n",
    "    os.chmod(\"tmp\",0o777)"
   ]
  },
  {
   "cell_type": "code",
   "execution_count": 1,
   "metadata": {},
   "outputs": [],
   "source": [
    "#x=getpwnam('guest').pw_uid\n",
    "#os.chown(\"tmp\", x, x)"
   ]
  },
  {
   "cell_type": "markdown",
   "metadata": {},
   "source": [
    "# list the directory, split the name and extention"
   ]
  },
  {
   "cell_type": "code",
   "execution_count": 4,
   "metadata": {
    "scrolled": true
   },
   "outputs": [
    {
     "name": "stdout",
     "output_type": "stream",
     "text": [
      "tmp\n",
      "tmp\n",
      "\n",
      "python3_os.ipynb\n",
      "python3_os\n",
      ".ipynb\n",
      ".ipynb_checkpoints\n",
      ".ipynb_checkpoints\n",
      "\n"
     ]
    }
   ],
   "source": [
    "imglist = os.listdir(\"./\")\n",
    "for image in imglist:\n",
    "    print(image)\n",
    "    (fn,ex) = os.path.splitext(image)\n",
    "    print(fn)\n",
    "    print(ex)"
   ]
  },
  {
   "cell_type": "markdown",
   "metadata": {},
   "source": [
    "> Need run with root"
   ]
  }
 ],
 "metadata": {
  "kernelspec": {
   "display_name": "Python 3",
   "language": "python",
   "name": "python3"
  },
  "language_info": {
   "codemirror_mode": {
    "name": "ipython",
    "version": 3
   },
   "file_extension": ".py",
   "mimetype": "text/x-python",
   "name": "python",
   "nbconvert_exporter": "python",
   "pygments_lexer": "ipython3",
   "version": "3.5.2"
  }
 },
 "nbformat": 4,
 "nbformat_minor": 2
}
