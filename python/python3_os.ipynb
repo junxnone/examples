{
  "nbformat": 4,
  "nbformat_minor": 0,
  "metadata": {
    "kernelspec": {
      "display_name": "Python 3",
      "language": "python",
      "name": "python3"
    },
    "language_info": {
      "codemirror_mode": {
        "name": "ipython",
        "version": 3
      },
      "file_extension": ".py",
      "mimetype": "text/x-python",
      "name": "python",
      "nbconvert_exporter": "python",
      "pygments_lexer": "ipython3",
      "version": "3.5.2"
    },
    "colab": {
      "name": "python3_os.ipynb",
      "provenance": []
    }
  },
  "cells": [
    {
      "cell_type": "markdown",
      "metadata": {
        "id": "EMS39XHTUkRs",
        "colab_type": "text"
      },
      "source": [
        "# Index\n",
        "- [makedirs()](#makedirs)"
      ]
    },
    {
      "cell_type": "code",
      "metadata": {
        "id": "jw8it8qfUkR0",
        "colab_type": "code",
        "colab": {}
      },
      "source": [
        "import os\n",
        "from shutil import *\n",
        "from pwd import getpwnam  "
      ],
      "execution_count": 0,
      "outputs": []
    },
    {
      "cell_type": "markdown",
      "metadata": {
        "id": "JXhAxECYUkR5",
        "colab_type": "text"
      },
      "source": [
        "# makedirs"
      ]
    },
    {
      "cell_type": "code",
      "metadata": {
        "id": "5ZOjUP_JUkR7",
        "colab_type": "code",
        "colab": {}
      },
      "source": [
        "if not os.path.exists(\"tmp\"):\n",
        "  os.makedirs(\"tmp\")\n",
        "if not os.path.exists(\"tmp/test\"):\n",
        "  os.makedirs(\"tmp/test\",0o776)\n",
        "if os.path.isdir(\"tmp\"):\n",
        "    os.chmod(\"tmp\",0o777)"
      ],
      "execution_count": 0,
      "outputs": []
    },
    {
      "cell_type": "code",
      "metadata": {
        "id": "tCniPoirUkSC",
        "colab_type": "code",
        "colab": {}
      },
      "source": [
        "#x=getpwnam('guest').pw_uid\n",
        "#os.chown(\"tmp\", x, x)"
      ],
      "execution_count": 0,
      "outputs": []
    },
    {
      "cell_type": "markdown",
      "metadata": {
        "id": "c0mvWS-ZUkSV",
        "colab_type": "text"
      },
      "source": [
        "# list the directory, split the name and extention"
      ]
    },
    {
      "cell_type": "code",
      "metadata": {
        "scrolled": true,
        "id": "yITnDGDtUkSY",
        "colab_type": "code",
        "colab": {
          "base_uri": "https://localhost:8080/",
          "height": 176
        },
        "outputId": "fc79fbc1-db62-43a2-be21-ec1c4fc2ec4c"
      },
      "source": [
        "imglist = os.listdir(\"./\")\n",
        "for image in imglist:\n",
        "    print(image)\n",
        "    (fn,ex) = os.path.splitext(image)\n",
        "    print(fn)\n",
        "    print(ex)"
      ],
      "execution_count": 4,
      "outputs": [
        {
          "output_type": "stream",
          "text": [
            ".config\n",
            ".config\n",
            "\n",
            "tmp\n",
            "tmp\n",
            "\n",
            "sample_data\n",
            "sample_data\n",
            "\n"
          ],
          "name": "stdout"
        }
      ]
    },
    {
      "cell_type": "markdown",
      "metadata": {
        "id": "cR_oKxXJUkSv",
        "colab_type": "text"
      },
      "source": [
        "> Need run with root"
      ]
    },
    {
      "cell_type": "markdown",
      "metadata": {
        "id": "qbGiYXZCXVhU",
        "colab_type": "text"
      },
      "source": [
        "# copy and move files\n"
      ]
    },
    {
      "cell_type": "code",
      "metadata": {
        "id": "iPq7tbyxXGRU",
        "colab_type": "code",
        "colab": {
          "base_uri": "https://localhost:8080/",
          "height": 34
        },
        "outputId": "7323b10b-2a0e-44d8-9284-00c2e899ea92"
      },
      "source": [
        "copyfile(\"./.config/active_config\", \"./active_config.bk\")"
      ],
      "execution_count": 16,
      "outputs": [
        {
          "output_type": "execute_result",
          "data": {
            "text/plain": [
              "'./active_config.bk'"
            ]
          },
          "metadata": {
            "tags": []
          },
          "execution_count": 16
        }
      ]
    },
    {
      "cell_type": "code",
      "metadata": {
        "id": "1oKhCHiaXqaC",
        "colab_type": "code",
        "colab": {
          "base_uri": "https://localhost:8080/",
          "height": 34
        },
        "outputId": "4044e1ac-260c-4308-92a6-6322a9dd4e24"
      },
      "source": [
        "move(\"./active_config.bk\", \"./active_config.bk.1\")"
      ],
      "execution_count": 19,
      "outputs": [
        {
          "output_type": "execute_result",
          "data": {
            "text/plain": [
              "'./active_config.bk.1'"
            ]
          },
          "metadata": {
            "tags": []
          },
          "execution_count": 19
        }
      ]
    }
  ]
}