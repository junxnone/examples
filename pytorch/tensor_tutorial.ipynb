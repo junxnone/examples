{
  "nbformat": 4,
  "nbformat_minor": 0,
  "metadata": {
    "colab": {
      "name": "tensor_tutorial.ipynb",
      "provenance": [],
      "collapsed_sections": [],
      "include_colab_link": true
    },
    "kernelspec": {
      "name": "python3",
      "display_name": "Python 3"
    },
    "accelerator": "GPU"
  },
  "cells": [
    {
      "cell_type": "markdown",
      "metadata": {
        "id": "view-in-github",
        "colab_type": "text"
      },
      "source": [
        "<a href=\"https://colab.research.google.com/github/junxnone/examples/blob/master/pytorch/tensor_tutorial.ipynb\" target=\"_parent\"><img src=\"https://colab.research.google.com/assets/colab-badge.svg\" alt=\"Open In Colab\"/></a>"
      ]
    },
    {
      "cell_type": "markdown",
      "metadata": {
        "id": "VWQyZRfFvEPP",
        "colab_type": "text"
      },
      "source": [
        "# 如何使用 GPU \n",
        "- 选择 Runtime -> Change Runtime type\n",
        "- hardward accelerator 选择 GPU\n",
        "\n",
        "    \n"
      ]
    },
    {
      "cell_type": "markdown",
      "metadata": {
        "id": "5j660SSZwGvZ",
        "colab_type": "text"
      },
      "source": [
        "# 安装 pytorch and torchvision\n"
      ]
    },
    {
      "cell_type": "code",
      "metadata": {
        "id": "9m0XEvsNu0Es",
        "colab_type": "code",
        "outputId": "cf34a646-0705-474d-8fa0-c9bbac4d3457",
        "colab": {
          "base_uri": "https://localhost:8080/",
          "height": 391
        }
      },
      "source": [
        "!pip3 install https://download.pytorch.org/whl/cu80/torch-1.0.0-cp36-cp36m-linux_x86_64.whl\n",
        "!pip3 install torchvision"
      ],
      "execution_count": 1,
      "outputs": [
        {
          "output_type": "stream",
          "text": [
            "Collecting torch==1.0.0\n",
            "\u001b[?25l  Downloading https://download.pytorch.org/whl/cu80/torch-1.0.0-cp36-cp36m-linux_x86_64.whl (532.5MB)\n",
            "\u001b[K     |████████████████████████████████| 532.5MB 30kB/s \n",
            "\u001b[31mERROR: torchvision 0.4.2 has requirement torch==1.3.1, but you'll have torch 1.0.0 which is incompatible.\u001b[0m\n",
            "\u001b[?25hInstalling collected packages: torch\n",
            "  Found existing installation: torch 1.3.1\n",
            "    Uninstalling torch-1.3.1:\n",
            "      Successfully uninstalled torch-1.3.1\n",
            "Successfully installed torch-1.0.0\n",
            "Requirement already satisfied: torchvision in /usr/local/lib/python3.6/dist-packages (0.4.2)\n",
            "Collecting torch==1.3.1\n",
            "\u001b[?25l  Downloading https://files.pythonhosted.org/packages/88/95/90e8c4c31cfc67248bf944ba42029295b77159982f532c5689bcfe4e9108/torch-1.3.1-cp36-cp36m-manylinux1_x86_64.whl (734.6MB)\n",
            "\u001b[K     |████████████████████████████████| 734.6MB 23kB/s \n",
            "\u001b[?25hRequirement already satisfied: six in /usr/local/lib/python3.6/dist-packages (from torchvision) (1.12.0)\n",
            "Requirement already satisfied: pillow>=4.1.1 in /usr/local/lib/python3.6/dist-packages (from torchvision) (4.3.0)\n",
            "Requirement already satisfied: numpy in /usr/local/lib/python3.6/dist-packages (from torchvision) (1.17.4)\n",
            "Requirement already satisfied: olefile in /usr/local/lib/python3.6/dist-packages (from pillow>=4.1.1->torchvision) (0.46)\n",
            "Installing collected packages: torch\n",
            "  Found existing installation: torch 1.0.0\n",
            "    Uninstalling torch-1.0.0:\n",
            "      Successfully uninstalled torch-1.0.0\n",
            "Successfully installed torch-1.3.1\n"
          ],
          "name": "stdout"
        }
      ]
    },
    {
      "cell_type": "code",
      "metadata": {
        "id": "RjX2BBoIuY1F",
        "colab_type": "code",
        "colab": {}
      },
      "source": [
        "%matplotlib inline"
      ],
      "execution_count": 0,
      "outputs": []
    },
    {
      "cell_type": "markdown",
      "metadata": {
        "id": "1aKDK4-huTqp",
        "colab_type": "text"
      },
      "source": [
        "\n",
        " PyTorch 是什么?\n",
        "================\n",
        "\n",
        "一个基于 Python 的科学计算包，适用于以下两种情况：\n",
        "\n",
        "-  想要替换 numpy 以利用 GPU 的算力\n",
        "-  需要一个高灵活性，速度快的深度学习框架\n",
        "\n",
        "> 早期大家用 numpy 搭建网络,只能使用 CPU，要想使用 GPU 只能用其他 package 替换\n",
        "\n",
        "Getting Started\n",
        "---------------\n",
        "\n",
        "## Tensors\n",
        "\n",
        "Tensors 类似于 NumPy 的 ndarrays, 区别是 Tensors 可以使用 GPU 加速。\n",
        "\n"
      ]
    },
    {
      "cell_type": "code",
      "metadata": {
        "id": "ZXw-F8zuuTqq",
        "colab_type": "code",
        "colab": {}
      },
      "source": [
        "from __future__ import print_function\n",
        "import torch"
      ],
      "execution_count": 0,
      "outputs": []
    },
    {
      "cell_type": "markdown",
      "metadata": {
        "id": "VKEG5kLpuTqv",
        "colab_type": "text"
      },
      "source": [
        "创建一个未初始化的矩阵:\n",
        "\n"
      ]
    },
    {
      "cell_type": "code",
      "metadata": {
        "id": "WBncvbOmuTqx",
        "colab_type": "code",
        "outputId": "a7fc14b7-c349-4487-8d4a-a1b2ec6bbb38",
        "colab": {
          "base_uri": "https://localhost:8080/",
          "height": 102
        }
      },
      "source": [
        "x = torch.empty(5, 3)\n",
        "print(x)"
      ],
      "execution_count": 3,
      "outputs": [
        {
          "output_type": "stream",
          "text": [
            "tensor([[2.8019e-35, 0.0000e+00, 0.0000e+00],\n",
            "        [0.0000e+00, 0.0000e+00, 0.0000e+00],\n",
            "        [0.0000e+00, 0.0000e+00, 2.8026e-45],\n",
            "        [0.0000e+00, 1.1210e-44, 0.0000e+00],\n",
            "        [1.4013e-45, 0.0000e+00, 2.3592e-16]])\n"
          ],
          "name": "stdout"
        }
      ]
    },
    {
      "cell_type": "markdown",
      "metadata": {
        "id": "9HVsibBbuTq1",
        "colab_type": "text"
      },
      "source": [
        "创建一个随机初始化的矩阵:\n",
        "\n"
      ]
    },
    {
      "cell_type": "code",
      "metadata": {
        "id": "ieyS1SM_uTq2",
        "colab_type": "code",
        "outputId": "54d11640-3e7a-4ab9-dbdb-43cdefe71399",
        "colab": {
          "base_uri": "https://localhost:8080/",
          "height": 102
        }
      },
      "source": [
        "x = torch.rand(5, 3)\n",
        "print(x)"
      ],
      "execution_count": 4,
      "outputs": [
        {
          "output_type": "stream",
          "text": [
            "tensor([[0.8250, 0.0677, 0.2949],\n",
            "        [0.7364, 0.9256, 0.0218],\n",
            "        [0.2134, 0.9679, 0.1554],\n",
            "        [0.4021, 0.6479, 0.2788],\n",
            "        [0.7190, 0.5107, 0.4980]])\n"
          ],
          "name": "stdout"
        }
      ]
    },
    {
      "cell_type": "markdown",
      "metadata": {
        "id": "RQSUbGifuTq6",
        "colab_type": "text"
      },
      "source": [
        "创建一个值为`0`, `dtype` 为 `long`的矩阵:\n",
        "\n"
      ]
    },
    {
      "cell_type": "code",
      "metadata": {
        "id": "C0AsorPyuTq8",
        "colab_type": "code",
        "outputId": "791e2670-62b2-4f27-91cc-cefe422d3558",
        "colab": {
          "base_uri": "https://localhost:8080/",
          "height": 102
        }
      },
      "source": [
        "x = torch.zeros(5, 3, dtype=torch.long)\n",
        "print(x)"
      ],
      "execution_count": 5,
      "outputs": [
        {
          "output_type": "stream",
          "text": [
            "tensor([[0, 0, 0],\n",
            "        [0, 0, 0],\n",
            "        [0, 0, 0],\n",
            "        [0, 0, 0],\n",
            "        [0, 0, 0]])\n"
          ],
          "name": "stdout"
        }
      ]
    },
    {
      "cell_type": "markdown",
      "metadata": {
        "id": "u4XnnNL1uTrA",
        "colab_type": "text"
      },
      "source": [
        "创建指定数值的 `tensor`:\n",
        "\n"
      ]
    },
    {
      "cell_type": "code",
      "metadata": {
        "id": "MPkYo4mJuTrA",
        "colab_type": "code",
        "outputId": "0be8e461-a86b-4095-b6b7-488bf64c14e0",
        "colab": {
          "base_uri": "https://localhost:8080/",
          "height": 34
        }
      },
      "source": [
        "x = torch.tensor([5.5, 3])\n",
        "print(x)"
      ],
      "execution_count": 6,
      "outputs": [
        {
          "output_type": "stream",
          "text": [
            "tensor([5.5000, 3.0000])\n"
          ],
          "name": "stdout"
        }
      ]
    },
    {
      "cell_type": "markdown",
      "metadata": {
        "id": "RRGgkbxBuTrI",
        "colab_type": "text"
      },
      "source": [
        "基于一个 `tensor` 创建 `tensor`, 如果未指定 `dtype`，则新 `tensor` 的属性同原 `tensor`\n",
        "\n"
      ]
    },
    {
      "cell_type": "code",
      "metadata": {
        "id": "18qrKNZKuTrK",
        "colab_type": "code",
        "outputId": "f6693a4e-2527-4ede-b36a-158bbb41aa0e",
        "colab": {
          "base_uri": "https://localhost:8080/",
          "height": 187
        }
      },
      "source": [
        "x = x.new_ones(5, 3, dtype=torch.double)      # new_* methods take in sizes\n",
        "print(x)\n",
        "\n",
        "x = torch.randn_like(x, dtype=torch.float)    # override dtype!\n",
        "print(x)                                      # result has the same size"
      ],
      "execution_count": 7,
      "outputs": [
        {
          "output_type": "stream",
          "text": [
            "tensor([[1., 1., 1.],\n",
            "        [1., 1., 1.],\n",
            "        [1., 1., 1.],\n",
            "        [1., 1., 1.],\n",
            "        [1., 1., 1.]], dtype=torch.float64)\n",
            "tensor([[-0.1901, -0.0409, -0.9711],\n",
            "        [ 1.5972,  1.0179,  0.4180],\n",
            "        [-0.5143, -0.5438, -1.9759],\n",
            "        [ 0.4046, -0.8019, -0.3620],\n",
            "        [-0.6700, -0.5574,  0.3332]])\n"
          ],
          "name": "stdout"
        }
      ]
    },
    {
      "cell_type": "markdown",
      "metadata": {
        "id": "f32OEbn3uTrO",
        "colab_type": "text"
      },
      "source": [
        "获取 `size`:\n",
        "\n"
      ]
    },
    {
      "cell_type": "code",
      "metadata": {
        "id": "oPHMGS-XuTrQ",
        "colab_type": "code",
        "outputId": "2487a444-c0c5-47d8-b522-b6b5037502f2",
        "colab": {
          "base_uri": "https://localhost:8080/",
          "height": 34
        }
      },
      "source": [
        "print(x.size())"
      ],
      "execution_count": 8,
      "outputs": [
        {
          "output_type": "stream",
          "text": [
            "torch.Size([5, 3])\n"
          ],
          "name": "stdout"
        }
      ]
    },
    {
      "cell_type": "markdown",
      "metadata": {
        "id": "9IGoPOyeuTrU",
        "colab_type": "text"
      },
      "source": [
        "**注意:**  `torch.Size` 是一个 `tuple`, 支持 `tuple` 的所有操作。\n",
        "\n",
        "## 运算\n",
        "每种运算经常会有多种实现语法，下面是 `加` 操作的实现。\n",
        "\n",
        "**`加` - 实现一**\n",
        "\n"
      ]
    },
    {
      "cell_type": "code",
      "metadata": {
        "id": "U2tI7wmLuTrV",
        "colab_type": "code",
        "outputId": "a1866f84-d88a-4386-b8d6-e8f79a91cdec",
        "colab": {
          "base_uri": "https://localhost:8080/",
          "height": 102
        }
      },
      "source": [
        "y = torch.rand(5, 3)\n",
        "print(x + y)"
      ],
      "execution_count": 9,
      "outputs": [
        {
          "output_type": "stream",
          "text": [
            "tensor([[ 0.4501,  0.2054, -0.7661],\n",
            "        [ 2.5661,  1.2065,  0.9808],\n",
            "        [-0.2271,  0.0249, -1.8873],\n",
            "        [ 0.5043, -0.6670, -0.3279],\n",
            "        [-0.1753, -0.0233,  0.6322]])\n"
          ],
          "name": "stdout"
        }
      ]
    },
    {
      "cell_type": "markdown",
      "metadata": {
        "id": "2Us77xPHuTrY",
        "colab_type": "text"
      },
      "source": [
        "**`加` - 实现二**\n",
        "\n"
      ]
    },
    {
      "cell_type": "code",
      "metadata": {
        "id": "lLacbsR0uTra",
        "colab_type": "code",
        "outputId": "2d5aaa57-0578-412c-a7f1-c85db5b7318b",
        "colab": {
          "base_uri": "https://localhost:8080/",
          "height": 102
        }
      },
      "source": [
        "print(torch.add(x, y))"
      ],
      "execution_count": 10,
      "outputs": [
        {
          "output_type": "stream",
          "text": [
            "tensor([[ 0.4501,  0.2054, -0.7661],\n",
            "        [ 2.5661,  1.2065,  0.9808],\n",
            "        [-0.2271,  0.0249, -1.8873],\n",
            "        [ 0.5043, -0.6670, -0.3279],\n",
            "        [-0.1753, -0.0233,  0.6322]])\n"
          ],
          "name": "stdout"
        }
      ]
    },
    {
      "cell_type": "markdown",
      "metadata": {
        "id": "ab6DsSxGuTre",
        "colab_type": "text"
      },
      "source": [
        "**`加` - 实现三 - 指定输出 `tensor`**\n",
        "\n"
      ]
    },
    {
      "cell_type": "code",
      "metadata": {
        "id": "NOIOPIlSuTrf",
        "colab_type": "code",
        "outputId": "2468e09a-3b47-487c-f03c-1a6933a62e87",
        "colab": {
          "base_uri": "https://localhost:8080/",
          "height": 102
        }
      },
      "source": [
        "result = torch.empty(5, 3)\n",
        "torch.add(x, y, out=result)\n",
        "print(result)"
      ],
      "execution_count": 11,
      "outputs": [
        {
          "output_type": "stream",
          "text": [
            "tensor([[ 0.4501,  0.2054, -0.7661],\n",
            "        [ 2.5661,  1.2065,  0.9808],\n",
            "        [-0.2271,  0.0249, -1.8873],\n",
            "        [ 0.5043, -0.6670, -0.3279],\n",
            "        [-0.1753, -0.0233,  0.6322]])\n"
          ],
          "name": "stdout"
        }
      ]
    },
    {
      "cell_type": "markdown",
      "metadata": {
        "id": "iHwnw0JKuTrj",
        "colab_type": "text"
      },
      "source": [
        "**`加` - 实现四 - 替换原值**\n",
        "\n"
      ]
    },
    {
      "cell_type": "code",
      "metadata": {
        "id": "Wyvja0oLuTrk",
        "colab_type": "code",
        "outputId": "32ea7974-9e93-4ac7-89b4-f2b2aab7622f",
        "colab": {
          "base_uri": "https://localhost:8080/",
          "height": 102
        }
      },
      "source": [
        "# adds x to y\n",
        "y.add_(x)\n",
        "print(y)"
      ],
      "execution_count": 12,
      "outputs": [
        {
          "output_type": "stream",
          "text": [
            "tensor([[ 0.4501,  0.2054, -0.7661],\n",
            "        [ 2.5661,  1.2065,  0.9808],\n",
            "        [-0.2271,  0.0249, -1.8873],\n",
            "        [ 0.5043, -0.6670, -0.3279],\n",
            "        [-0.1753, -0.0233,  0.6322]])\n"
          ],
          "name": "stdout"
        }
      ]
    },
    {
      "cell_type": "markdown",
      "metadata": {
        "id": "MPx5FBy9uTro",
        "colab_type": "text"
      },
      "source": [
        "**注意:** 任何 `in-place` 替换原值的计算都是使用后缀 `_`.  \n",
        " 如下操作都将改变 `x` 值: \n",
        " - ``x.copy_(y)``\n",
        " - ``x.t_()``\n",
        "\n",
        "可以像 `Numpy` 似的使用 `index` 索引操作!\n",
        "\n"
      ]
    },
    {
      "cell_type": "code",
      "metadata": {
        "id": "D4IY3rbZuTrq",
        "colab_type": "code",
        "outputId": "f735e53e-e2c6-4831-cf1f-6249c2d508cd",
        "colab": {
          "base_uri": "https://localhost:8080/",
          "height": 34
        }
      },
      "source": [
        "print(x[:, 1])"
      ],
      "execution_count": 13,
      "outputs": [
        {
          "output_type": "stream",
          "text": [
            "tensor([-0.0409,  1.0179, -0.5438, -0.8019, -0.5574])\n"
          ],
          "name": "stdout"
        }
      ]
    },
    {
      "cell_type": "markdown",
      "metadata": {
        "id": "zY7LH-n4uTru",
        "colab_type": "text"
      },
      "source": [
        "Resizing: 如果想 `resize/reshape tensor`, 可以使用 ``torch.view``:\n",
        "\n"
      ]
    },
    {
      "cell_type": "code",
      "metadata": {
        "id": "IX6rCUqLuTrw",
        "colab_type": "code",
        "outputId": "74842dc5-e443-4435-ed97-44099ba9ccf4",
        "colab": {
          "base_uri": "https://localhost:8080/",
          "height": 34
        }
      },
      "source": [
        "x = torch.randn(4, 4)\n",
        "y = x.view(16)\n",
        "z = x.view(-1, 8)  # the size -1 is inferred from other dimensions\n",
        "print(x.size(), y.size(), z.size())"
      ],
      "execution_count": 14,
      "outputs": [
        {
          "output_type": "stream",
          "text": [
            "torch.Size([4, 4]) torch.Size([16]) torch.Size([2, 8])\n"
          ],
          "name": "stdout"
        }
      ]
    },
    {
      "cell_type": "markdown",
      "metadata": {
        "id": "YTFUhIXzuTr2",
        "colab_type": "text"
      },
      "source": [
        "如果是包含一个元素的 `tensor`, 可以使用 `.item()` 方法获取值.\n",
        "\n"
      ]
    },
    {
      "cell_type": "code",
      "metadata": {
        "id": "ajb5rPU1uTr4",
        "colab_type": "code",
        "outputId": "0ee1cfd1-139a-41ef-e3b1-7b1ee3c15efb",
        "colab": {
          "base_uri": "https://localhost:8080/",
          "height": 51
        }
      },
      "source": [
        "x = torch.randn(1)\n",
        "print(x)\n",
        "print(x.item())"
      ],
      "execution_count": 15,
      "outputs": [
        {
          "output_type": "stream",
          "text": [
            "tensor([-1.9805])\n",
            "-1.9805296659469604\n"
          ],
          "name": "stdout"
        }
      ]
    },
    {
      "cell_type": "markdown",
      "metadata": {
        "id": "pEiiltDQuTr7",
        "colab_type": "text"
      },
      "source": [
        "**扩展阅读:**\n",
        "\n",
        "\n",
        "  100+ 种 `Tensor` 操作, 包括 `transposing, indexing, slicing,\n",
        "  mathematical operations, linear algebra, random numbers`... 等等, 参见[文档](https://pytorch.org/docs/torch).\n",
        "\n",
        "与 `NumPy` 并用\n",
        "------------\n",
        "\n",
        " `Torch Tensor` 和 `NumPy array` 转换很容易.\n",
        "\n",
        "转换后的 `Torch Tensor` 和 `NumPy array` 会共享内存(指向同一个位置), 当一个值改变时，另一个也会改变.\n",
        "\n",
        "## `Torch Tensor` 转 `NumPy Array`\n"
      ]
    },
    {
      "cell_type": "code",
      "metadata": {
        "id": "hBjDxZscuTr9",
        "colab_type": "code",
        "outputId": "e403b2cd-5340-47c8-9e2a-62a73aca7860",
        "colab": {
          "base_uri": "https://localhost:8080/",
          "height": 34
        }
      },
      "source": [
        "a = torch.ones(5)\n",
        "print(a)"
      ],
      "execution_count": 16,
      "outputs": [
        {
          "output_type": "stream",
          "text": [
            "tensor([1., 1., 1., 1., 1.])\n"
          ],
          "name": "stdout"
        }
      ]
    },
    {
      "cell_type": "code",
      "metadata": {
        "id": "9foySJUhuTsB",
        "colab_type": "code",
        "outputId": "3d503a3e-49fd-468c-a131-945d83f3b055",
        "colab": {
          "base_uri": "https://localhost:8080/",
          "height": 34
        }
      },
      "source": [
        "b = a.numpy()\n",
        "print(b)"
      ],
      "execution_count": 17,
      "outputs": [
        {
          "output_type": "stream",
          "text": [
            "[1. 1. 1. 1. 1.]\n"
          ],
          "name": "stdout"
        }
      ]
    },
    {
      "cell_type": "markdown",
      "metadata": {
        "id": "nu5flaSFuTsE",
        "colab_type": "text"
      },
      "source": [
        "改变 `Tensor`, `Array` 也会改变.\n",
        "\n",
        "\n",
        "\n"
      ]
    },
    {
      "cell_type": "code",
      "metadata": {
        "id": "rgpeTVJeuTsG",
        "colab_type": "code",
        "outputId": "e4cd7ef8-5bd9-4c3c-94f9-b3e1b409ac6e",
        "colab": {
          "base_uri": "https://localhost:8080/",
          "height": 51
        }
      },
      "source": [
        "a.add_(1)\n",
        "print(a)\n",
        "print(b)"
      ],
      "execution_count": 18,
      "outputs": [
        {
          "output_type": "stream",
          "text": [
            "tensor([2., 2., 2., 2., 2.])\n",
            "[2. 2. 2. 2. 2.]\n"
          ],
          "name": "stdout"
        }
      ]
    },
    {
      "cell_type": "markdown",
      "metadata": {
        "id": "MABVWe-zuTsL",
        "colab_type": "text"
      },
      "source": [
        "## `NumPy Array` 转 `Torch Tensor`\n",
        "改变 `np array`, 也会自动改变 `Torch Tensor`\n",
        "\n",
        "\n"
      ]
    },
    {
      "cell_type": "code",
      "metadata": {
        "id": "qBZs_SMVuTsN",
        "colab_type": "code",
        "outputId": "b575b875-718b-4203-8a84-7043172be8bc",
        "colab": {
          "base_uri": "https://localhost:8080/",
          "height": 51
        }
      },
      "source": [
        "import numpy as np\n",
        "a = np.ones(5)\n",
        "b = torch.from_numpy(a)\n",
        "np.add(a, 1, out=a)\n",
        "print(a)\n",
        "print(b)"
      ],
      "execution_count": 19,
      "outputs": [
        {
          "output_type": "stream",
          "text": [
            "[2. 2. 2. 2. 2.]\n",
            "tensor([2., 2., 2., 2., 2.], dtype=torch.float64)\n"
          ],
          "name": "stdout"
        }
      ]
    },
    {
      "cell_type": "markdown",
      "metadata": {
        "id": "_sPOtj0fuTsQ",
        "colab_type": "text"
      },
      "source": [
        "所有 CPU 上的 `Tensor` 都可以与 `NumPy` 互相转换, CharTensor 除外.\n",
        "\n",
        "CUDA Tensors\n",
        "------------\n",
        "\n",
        "Tensors 可以使用 `.to` 方法移动到不同的 `device`上.\n",
        "\n"
      ]
    },
    {
      "cell_type": "code",
      "metadata": {
        "id": "4mnP_UNzuTsR",
        "colab_type": "code",
        "outputId": "d5d99666-1b4a-45da-b84c-ddb434878694",
        "colab": {
          "base_uri": "https://localhost:8080/",
          "height": 51
        }
      },
      "source": [
        "# let us run this cell only if CUDA is available\n",
        "# We will use ``torch.device`` objects to move tensors in and out of GPU\n",
        "if torch.cuda.is_available():\n",
        "    device = torch.device(\"cuda\")          # a CUDA device object\n",
        "    y = torch.ones_like(x, device=device)  # directly create a tensor on GPU\n",
        "    x = x.to(device)                       # or just use strings ``.to(\"cuda\")``\n",
        "    z = x + y\n",
        "    print(z)\n",
        "    print(z.to(\"cpu\", torch.double))       # ``.to`` can also change dtype together!"
      ],
      "execution_count": 20,
      "outputs": [
        {
          "output_type": "stream",
          "text": [
            "tensor([-0.9805], device='cuda:0')\n",
            "tensor([-0.9805], dtype=torch.float64)\n"
          ],
          "name": "stdout"
        }
      ]
    }
  ]
}