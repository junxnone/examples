{
  "nbformat": 4,
  "nbformat_minor": 0,
  "metadata": {
    "colab": {
      "name": "insightface_demo.ipynb",
      "provenance": [],
      "include_colab_link": true
    },
    "kernelspec": {
      "name": "python3",
      "display_name": "Python 3"
    },
    "accelerator": "GPU"
  },
  "cells": [
    {
      "cell_type": "markdown",
      "metadata": {
        "id": "view-in-github",
        "colab_type": "text"
      },
      "source": [
        "<a href=\"https://colab.research.google.com/github/junxnone/examples/blob/master/face/insightface/insightface_demo.ipynb\" target=\"_parent\"><img src=\"https://colab.research.google.com/assets/colab-badge.svg\" alt=\"Open In Colab\"/></a>"
      ]
    },
    {
      "cell_type": "code",
      "metadata": {
        "id": "JLnXM_Amv5i2",
        "colab_type": "code",
        "colab": {
          "base_uri": "https://localhost:8080/",
          "height": 510
        },
        "outputId": "01dde2b5-c3cc-42e1-fc78-04563964b3ac"
      },
      "source": [
        "!pip3 install insightface mxnet-cu100"
      ],
      "execution_count": 1,
      "outputs": [
        {
          "output_type": "stream",
          "text": [
            "Requirement already satisfied: insightface in /usr/local/lib/python3.6/dist-packages (0.1.5)\n",
            "Requirement already satisfied: mxnet-cu100 in /usr/local/lib/python3.6/dist-packages (1.5.1.post0)\n",
            "Requirement already satisfied: Pillow in /usr/local/lib/python3.6/dist-packages (from insightface) (4.3.0)\n",
            "Requirement already satisfied: easydict in /usr/local/lib/python3.6/dist-packages (from insightface) (1.9)\n",
            "Requirement already satisfied: scipy in /usr/local/lib/python3.6/dist-packages (from insightface) (1.3.1)\n",
            "Requirement already satisfied: scikit-learn in /usr/local/lib/python3.6/dist-packages (from insightface) (0.21.3)\n",
            "Requirement already satisfied: opencv-python in /usr/local/lib/python3.6/dist-packages (from insightface) (3.4.7.28)\n",
            "Requirement already satisfied: matplotlib in /usr/local/lib/python3.6/dist-packages (from insightface) (3.1.1)\n",
            "Requirement already satisfied: tqdm in /usr/local/lib/python3.6/dist-packages (from insightface) (4.28.1)\n",
            "Requirement already satisfied: numpy in /usr/local/lib/python3.6/dist-packages (from insightface) (1.17.3)\n",
            "Requirement already satisfied: scikit-image in /usr/local/lib/python3.6/dist-packages (from insightface) (0.15.0)\n",
            "Requirement already satisfied: requests in /usr/local/lib/python3.6/dist-packages (from insightface) (2.21.0)\n",
            "Requirement already satisfied: graphviz<0.9.0,>=0.8.1 in /usr/local/lib/python3.6/dist-packages (from mxnet-cu100) (0.8.4)\n",
            "Requirement already satisfied: olefile in /usr/local/lib/python3.6/dist-packages (from Pillow->insightface) (0.46)\n",
            "Requirement already satisfied: joblib>=0.11 in /usr/local/lib/python3.6/dist-packages (from scikit-learn->insightface) (0.14.0)\n",
            "Requirement already satisfied: pyparsing!=2.0.4,!=2.1.2,!=2.1.6,>=2.0.1 in /usr/local/lib/python3.6/dist-packages (from matplotlib->insightface) (2.4.2)\n",
            "Requirement already satisfied: python-dateutil>=2.1 in /usr/local/lib/python3.6/dist-packages (from matplotlib->insightface) (2.6.1)\n",
            "Requirement already satisfied: cycler>=0.10 in /usr/local/lib/python3.6/dist-packages (from matplotlib->insightface) (0.10.0)\n",
            "Requirement already satisfied: kiwisolver>=1.0.1 in /usr/local/lib/python3.6/dist-packages (from matplotlib->insightface) (1.1.0)\n",
            "Requirement already satisfied: PyWavelets>=0.4.0 in /usr/local/lib/python3.6/dist-packages (from scikit-image->insightface) (1.1.1)\n",
            "Requirement already satisfied: networkx>=2.0 in /usr/local/lib/python3.6/dist-packages (from scikit-image->insightface) (2.4)\n",
            "Requirement already satisfied: imageio>=2.0.1 in /usr/local/lib/python3.6/dist-packages (from scikit-image->insightface) (2.4.1)\n",
            "Requirement already satisfied: urllib3<1.25,>=1.21.1 in /usr/local/lib/python3.6/dist-packages (from requests->insightface) (1.24.3)\n",
            "Requirement already satisfied: certifi>=2017.4.17 in /usr/local/lib/python3.6/dist-packages (from requests->insightface) (2019.9.11)\n",
            "Requirement already satisfied: chardet<3.1.0,>=3.0.2 in /usr/local/lib/python3.6/dist-packages (from requests->insightface) (3.0.4)\n",
            "Requirement already satisfied: idna<2.9,>=2.5 in /usr/local/lib/python3.6/dist-packages (from requests->insightface) (2.8)\n",
            "Requirement already satisfied: six>=1.5 in /usr/local/lib/python3.6/dist-packages (from python-dateutil>=2.1->matplotlib->insightface) (1.12.0)\n",
            "Requirement already satisfied: setuptools in /usr/local/lib/python3.6/dist-packages (from kiwisolver>=1.0.1->matplotlib->insightface) (41.4.0)\n",
            "Requirement already satisfied: decorator>=4.3.0 in /usr/local/lib/python3.6/dist-packages (from networkx>=2.0->scikit-image->insightface) (4.4.1)\n"
          ],
          "name": "stdout"
        }
      ]
    },
    {
      "cell_type": "code",
      "metadata": {
        "id": "uBZM7rchxWSy",
        "colab_type": "code",
        "colab": {
          "base_uri": "https://localhost:8080/",
          "height": 51
        },
        "outputId": "c74ae747-171d-4d4c-9949-a80dc3557972"
      },
      "source": [
        "!ls /usr/local"
      ],
      "execution_count": 2,
      "outputs": [
        {
          "output_type": "stream",
          "text": [
            "bin   cuda-10.0  games\t  lib\t       man   setup.cfg\tsrc\n",
            "cuda  etc\t include  LICENSE.txt  sbin  share\txgboost\n"
          ],
          "name": "stdout"
        }
      ]
    },
    {
      "cell_type": "code",
      "metadata": {
        "id": "Y_6S5Shxv2ZI",
        "colab_type": "code",
        "colab": {}
      },
      "source": [
        "import insightface\n",
        "import urllib\n",
        "import urllib.request\n",
        "import cv2\n",
        "import numpy as np\n",
        "\n",
        "def url_to_image(url):\n",
        "    resp = urllib.request.urlopen(url)\n",
        "    image = np.asarray(bytearray(resp.read()), dtype=\"uint8\")\n",
        "    image = cv2.imdecode(image, cv2.IMREAD_COLOR)\n",
        "    return image"
      ],
      "execution_count": 0,
      "outputs": []
    },
    {
      "cell_type": "code",
      "metadata": {
        "id": "AHhSFa95wBI7",
        "colab_type": "code",
        "colab": {}
      },
      "source": [
        "url = 'https://github.com/deepinsight/insightface/blob/master/sample-images/t1.jpg?raw=true'\n",
        "img = url_to_image(url)"
      ],
      "execution_count": 0,
      "outputs": []
    },
    {
      "cell_type": "code",
      "metadata": {
        "id": "B5y46e3BwMM7",
        "colab_type": "code",
        "colab": {
          "base_uri": "https://localhost:8080/",
          "height": 71
        },
        "outputId": "a90afcd7-9e5a-4a1a-d139-e9639a4140ad"
      },
      "source": [
        "model = insightface.app.FaceAnalysis()\n",
        "ctx_id = 0\n",
        "model.prepare(ctx_id = ctx_id, nms=0.4)"
      ],
      "execution_count": 5,
      "outputs": [
        {
          "output_type": "stream",
          "text": [
            "[32, 16, 8] {'32': {'SCALES': (32, 16), 'BASE_SIZE': 16, 'RATIOS': (1.0,), 'ALLOWED_BORDER': 9999}, '16': {'SCALES': (8, 4), 'BASE_SIZE': 16, 'RATIOS': (1.0,), 'ALLOWED_BORDER': 9999}, '8': {'SCALES': (2, 1), 'BASE_SIZE': 16, 'RATIOS': (1.0,), 'ALLOWED_BORDER': 9999}}\n",
            "use_landmarks True\n"
          ],
          "name": "stdout"
        }
      ]
    },
    {
      "cell_type": "code",
      "metadata": {
        "id": "mAvH2oqSwTkR",
        "colab_type": "code",
        "colab": {
          "base_uri": "https://localhost:8080/",
          "height": 731
        },
        "outputId": "f681192d-6f56-45a8-9e37-a4469efdd147"
      },
      "source": [
        "faces = model.get(img)\n",
        "for idx, face in enumerate(faces):\n",
        "  print(\"Face [%d]:\"%idx)\n",
        "  print(\"\\tage:%d\"%(face.age))\n",
        "  gender = 'Male'\n",
        "  if face.gender==0:\n",
        "    gender = 'Female'\n",
        "  print(\"\\tgender:%s\"%(gender))\n",
        "  print(\"\\tembedding shape:%s\"%face.embedding.shape)\n",
        "  print(\"\\tbbox:%s\"%(face.bbox.astype(np.int).flatten()))\n",
        "  print(\"\\tlandmark:%s\"%(face.landmark.astype(np.int).flatten()))\n",
        "  print(\"\")"
      ],
      "execution_count": 6,
      "outputs": [
        {
          "output_type": "stream",
          "text": [
            "Face [0]:\n",
            "\tage:25\n",
            "\tgender:Male\n",
            "\tembedding shape:512\n",
            "\tbbox:[ 903   52 1012  205]\n",
            "\tlandmark:[917 120 948 116 921 149 937 174 958 169]\n",
            "\n",
            "Face [1]:\n",
            "\tage:26\n",
            "\tgender:Female\n",
            "\tembedding shape:512\n",
            "\tbbox:[274 145 368 265]\n",
            "\tlandmark:[290 210 319 195 305 230 315 246 339 234]\n",
            "\n",
            "Face [2]:\n",
            "\tage:24\n",
            "\tgender:Female\n",
            "\tembedding shape:512\n",
            "\tbbox:[ 54 263 166 396]\n",
            "\tlandmark:[ 85 329 130 305 121 341 114 371 150 352]\n",
            "\n",
            "Face [3]:\n",
            "\tage:35\n",
            "\tgender:Male\n",
            "\tembedding shape:512\n",
            "\tbbox:[464 261 573 416]\n",
            "\tlandmark:[490 321 541 332 505 366 483 369 531 378]\n",
            "\n",
            "Face [4]:\n",
            "\tage:33\n",
            "\tgender:Male\n",
            "\tembedding shape:512\n",
            "\tbbox:[745 340 843 479]\n",
            "\tlandmark:[759 397 801 402 769 430 765 436 806 440]\n",
            "\n",
            "Face [5]:\n",
            "\tage:25\n",
            "\tgender:Female\n",
            "\tembedding shape:512\n",
            "\tbbox:[1130  266 1225  399]\n",
            "\tlandmark:[1148  324 1192  323 1165  350 1153  366 1192  365]\n",
            "\n"
          ],
          "name": "stdout"
        }
      ]
    }
  ]
}