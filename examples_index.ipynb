{
  "nbformat": 4,
  "nbformat_minor": 0,
  "metadata": {
    "colab": {
      "name": "examples_index.ipynb",
      "provenance": [],
      "collapsed_sections": [],
      "authorship_tag": "ABX9TyOpaz/9posZT1gU3rHqxUtm",
      "include_colab_link": true
    },
    "kernelspec": {
      "name": "python3",
      "display_name": "Python 3"
    }
  },
  "cells": [
    {
      "cell_type": "markdown",
      "metadata": {
        "id": "view-in-github",
        "colab_type": "text"
      },
      "source": [
        "<a href=\"https://colab.research.google.com/github/junxnone/examples/blob/master/examples_index.ipynb\" target=\"_parent\"><img src=\"https://colab.research.google.com/assets/colab-badge.svg\" alt=\"Open In Colab\"/></a>"
      ]
    },
    {
      "cell_type": "markdown",
      "metadata": {
        "id": "-Xp4LeT9PhbY"
      },
      "source": [
        "# Imageio\n",
        "- [imageio_basic](https://nbviewer.jupyter.org/github/junxnone/examples/blob/master/imageio/imageio_basic.ipynb)"
      ]
    },
    {
      "cell_type": "markdown",
      "metadata": {
        "id": "RvSD1GaPPd6M"
      },
      "source": [
        "# Imgaug\n",
        "- [Basic](https://nbviewer.jupyter.org/github/junxnone/examples/blob/master/imgaug/basic.ipynb)\n",
        "- [Bounding Boxes](https://nbviewer.jupyter.org/github/junxnone/examples/blob/master/imgaug/Augment_Bounding_Boxes.ipynb)\n",
        "- [Keypoint](https://nbviewer.jupyter.org/github/junxnone/examples/blob/master/imgaug/keypoint.ipynb)"
      ]
    },
    {
      "cell_type": "markdown",
      "metadata": {
        "id": "7xuFPDMUOini"
      },
      "source": [
        "# Albumentations"
      ]
    },
    {
      "cell_type": "markdown",
      "metadata": {
        "id": "5OjntKVxOYA_"
      },
      "source": [
        "# OpenCV\n",
        "- [Basic](https://nbviewer.jupyter.org/github/junxnone/examples/blob/master/opencv/opencv_basic.ipynb)\n",
        "- [RGB2Gray](https://nbviewer.jupyter.org/github/junxnone/examples/blob/master/opencv/rgb2gray.ipynb)\n",
        "- [Binary Image](https://nbviewer.jupyter.org/github/junxnone/examples/blob/master/opencv/gray_binary_image.ipynb)\n",
        "- [Contours](https://nbviewer.jupyter.org/github/junxnone/examples/blob/master/opencv/OpenCV_findContours_drawContours.ipynb)\n",
        "- [Erode and Dilate](https://nbviewer.jupyter.org/github/junxnone/examples/blob/master/opencv/opencv_erode_dilate.ipynb)\n",
        "- [Edge Detection](https://nbviewer.jupyter.org/github/junxnone/examples/blob/master/opencv/filter2D_edge_detect.ipynb)\n",
        "- [HED Edge Detection](https://nbviewer.jupyter.org/github/junxnone/examples/blob/master/opencv/HED.ipynb)\n",
        "- [Face Detector](https://nbviewer.jupyter.org/github/junxnone/examples/blob/master/opencv/opencv_face_detector.ipynb)\n",
        "- [Match](https://nbviewer.jupyter.org/github/junxnone/examples/blob/master/opencv/opencv_match.ipynb)\n",
        "- [Hand Keypoint Detection](https://nbviewer.jupyter.org/github/junxnone/examples/blob/master/opencv/hand_keypoint_detection.ipynb)"
      ]
    },
    {
      "cell_type": "markdown",
      "metadata": {
        "id": "b5qAJsAFOqkK"
      },
      "source": [
        "# Scikit-Image\n",
        "- [Images](https://nbviewer.jupyter.org/github/junxnone/examples/blob/master/scikit-image/scikit_image_getting_started.ipynb)\n",
        "- [Histogram Equalization](https://nbviewer.jupyter.org/github/junxnone/examples/blob/master/scikit-image/Histogram_Equalization.ipynb)\n",
        "- [Structural Similarity](https://nbviewer.jupyter.org/github/junxnone/examples/blob/master/scikit-image/Structural_similarity_index.ipynb)\n"
      ]
    },
    {
      "cell_type": "markdown",
      "metadata": {
        "id": "w5dANn1TO6Gw"
      },
      "source": [
        "# Scikit-learn\n",
        "- [Datasets](https://nbviewer.jupyter.org/github/junxnone/examples/blob/master/scikit-learn/datasets.ipynb)\n",
        "- [Confusion Matrix](https://nbviewer.jupyter.org/github/junxnone/examples/blob/master/scikit-learn/confusion_matrix.ipynb)\n",
        "- [Distance - Pairwise Metrics](https://nbviewer.jupyter.org/github/junxnone/examples/blob/master/scikit-learn/Pairwise_metrics.ipynb)\n",
        "- [Hand Written Digits SVM](https://nbviewer.jupyter.org/github/junxnone/examples/blob/master/scikit-learn/hand_written_digits_svm_svc.ipynb)\n",
        "- [Linear Model](https://nbviewer.jupyter.org/github/junxnone/examples/blob/master/scikit-learn/sklearn_linear_model.ipynb)"
      ]
    },
    {
      "cell_type": "markdown",
      "metadata": {
        "id": "VpH8HGKWO_ZI"
      },
      "source": [
        "# Pandas"
      ]
    },
    {
      "cell_type": "markdown",
      "metadata": {
        "id": "0o3uL-EFPA-c"
      },
      "source": [
        "# Numpy\n",
        "- [Basic](https://nbviewer.jupyter.org/github/junxnone/examples/blob/master/numpy/numpy_basic.ipynb)\n",
        "- [Dot Product](https://nbviewer.jupyter.org/github/junxnone/examples/blob/master/numpy/numpy_dot_product.ipynb)"
      ]
    },
    {
      "cell_type": "markdown",
      "metadata": {
        "id": "PM8SU4HlO0Rz"
      },
      "source": [
        "# Pytorch\n",
        "- [Tensor Tutorial](https://nbviewer.jupyter.org/github/junxnone/examples/blob/master/pytorch/tensor_tutorial.ipynb)\n",
        "- [LeNet Mnist](https://nbviewer.jupyter.org/github/junxnone/examples/blob/master/pytorch/pytorch_LeNet_mnist.ipynb)\n",
        "- [Detectron2 Tutorial](https://nbviewer.jupyter.org/github/junxnone/examples/blob/master/pytorch/detectron2/FAIR_Detectron2_Tutorial.ipynb)"
      ]
    },
    {
      "cell_type": "markdown",
      "metadata": {
        "id": "5KckVBSkO2eX"
      },
      "source": [
        "# Tensorflow"
      ]
    },
    {
      "cell_type": "markdown",
      "metadata": {
        "id": "3ssQ34u8Pa0x"
      },
      "source": [
        "# Keras"
      ]
    },
    {
      "cell_type": "markdown",
      "metadata": {
        "id": "eChyvMdsO4xB"
      },
      "source": [
        "# OpenVINO"
      ]
    },
    {
      "cell_type": "markdown",
      "metadata": {
        "id": "sauhdxslPJIy"
      },
      "source": [
        "# Matplotlib"
      ]
    },
    {
      "cell_type": "markdown",
      "metadata": {
        "id": "qTqNL9QuPLlk"
      },
      "source": [
        "# Seaborn"
      ]
    },
    {
      "cell_type": "markdown",
      "metadata": {
        "id": "NllsXJdAPVpO"
      },
      "source": [
        "# Tensorboard"
      ]
    },
    {
      "cell_type": "markdown",
      "metadata": {
        "id": "LikCwEiTN1QQ"
      },
      "source": [
        "# OpenMP\n",
        "- [OpenMP HelloWorld](https://github.com/junxnone/examples/blob/master/openmp/hello_omp/omp_helloworld.ipynb)"
      ]
    }
  ]
}